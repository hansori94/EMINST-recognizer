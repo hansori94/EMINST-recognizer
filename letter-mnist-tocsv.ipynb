{
 "cells": [
  {
   "cell_type": "code",
   "execution_count": 3,
   "metadata": {},
   "outputs": [
    {
     "name": "stdout",
     "output_type": "stream",
     "text": [
      "gzip: emnist-letters-train-labels-idx1-ubyte.gz\n",
      "gzip: emnist-letters-train-images-idx3-ubyte.gz\n",
      "gzip: emnist-letters-test-images-idx3-ubyte.gz\n",
      "gzip: emnist-letters-test-labels-idx1-ubyte.gz\n",
      "ok\n"
     ]
    }
   ],
   "source": [
    "#downloading gz file\n",
    "import urllib.request as req\n",
    "import gzip, os, os.path\n",
    "\n",
    "savepath = \"./mnist_letter\"\n",
    "\n",
    "files=[\n",
    "    \"emnist-letters-train-labels-idx1-ubyte.gz\",\n",
    "    \"emnist-letters-train-images-idx3-ubyte.gz\",\n",
    "    \"emnist-letters-test-images-idx3-ubyte.gz\", \n",
    "    \"emnist-letters-test-labels-idx1-ubyte.gz\"]\n",
    "\n",
    "#decompress\n",
    "for f in files:\n",
    "    gz_file = savepath + \"/\" + f\n",
    "    raw_file = savepath + \"/\" + f.replace(\".gz\", \"\")\n",
    "    print(\"gzip:\", f)\n",
    "    with gzip.open(gz_file, \"rb\") as fp:\n",
    "        body = fp.read()\n",
    "        with open(raw_file, \"wb\") as w:\n",
    "            w.write(body)\n",
    "print(\"ok\")\n",
    "\n",
    "#download 28X28 data\n",
    "\n",
    "import struct\n",
    "\n",
    "def to_csv(name, maxdata):\n",
    "    # opening label files and image files\n",
    "    lbl_f = open(\"./mnist_letter/\" \"emnist-letters-\" +name+\"-labels-idx1-ubyte\", \"rb\")\n",
    "    img_f = open(\"./mnist_letter/\" \"emnist-letters-\"+name+\"-images-idx3-ubyte\", \"rb\")\n",
    "    csv_f = open(\"./mnist_letter/\" +name+\".csv\",\"w\", encoding = \"utf-8\")\n",
    "    # reading information header\n",
    "    mag, lbl_count = struct.unpack(\">II\", lbl_f.read(8))\n",
    "    mag, img_count = struct.unpack(\">II\", img_f.read(8))\n",
    "    rows, cols = struct.unpack(\">II\", img_f.read(8))\n",
    "    pixels = rows * cols\n",
    "    #reading image data and saving as csv \n",
    "    res = []\n",
    "    for idx in range(lbl_count):\n",
    "        if idx > maxdata : break\n",
    "        label = struct.unpack(\"B\", lbl_f.read(1))[0]\n",
    "        bdata = img_f.read(pixels)\n",
    "        sdata = list(map(lambda n: str(n), bdata))\n",
    "        csv_f.write(str(label)+\",\")\n",
    "        csv_f.write(\",\".join(sdata)+\"\\r\\n\")\n",
    "        #testing if the images are saved correclty\n",
    "        if idx <10:\n",
    "            s = \"P2 28 28 255\\n\"\n",
    "            s += \" \".join(sdata)\n",
    "            iname = \"./mnist/{0}-{1}-{2}.pgm\".format(name,idx,label)\n",
    "            with open(iname, \"w\", encoding=\"utf-8\") as f:\n",
    "                f.write(s)\n",
    "    csv_f.close()\n",
    "    lbl_f.close()\n",
    "    img_f.close()\n",
    "    \n",
    "#Extracting data files\n",
    "\n",
    "to_csv(\"train\",6000)\n",
    "to_csv(\"test\",20800)\n"
   ]
  },
  {
   "cell_type": "code",
   "execution_count": null,
   "metadata": {
    "collapsed": true
   },
   "outputs": [],
   "source": []
  }
 ],
 "metadata": {
  "kernelspec": {
   "display_name": "Python 3",
   "language": "python",
   "name": "python3"
  },
  "language_info": {
   "codemirror_mode": {
    "name": "ipython",
    "version": 3
   },
   "file_extension": ".py",
   "mimetype": "text/x-python",
   "name": "python",
   "nbconvert_exporter": "python",
   "pygments_lexer": "ipython3",
   "version": "3.6.3"
  }
 },
 "nbformat": 4,
 "nbformat_minor": 2
}
