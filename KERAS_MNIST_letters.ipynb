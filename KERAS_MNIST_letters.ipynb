{
 "cells": [
  {
   "cell_type": "code",
   "execution_count": 1,
   "metadata": {
    "scrolled": false
   },
   "outputs": [
    {
     "name": "stderr",
     "output_type": "stream",
     "text": [
      "Using TensorFlow backend.\n"
     ]
    }
   ],
   "source": [
    "from keras.datasets import mnist\n",
    "from keras.models import Sequential\n",
    "from keras.layers.core import Dense, Dropout, Activation\n",
    "from keras.optimizers import Adam\n",
    "from keras.utils import np_utils\n",
    "import numpy as np\n",
    "\n",
    "\n",
    "def load_csv(fname):\n",
    "    labels = []\n",
    "    images = []\n",
    "    with open (fname, \"r\") as f:\n",
    "        for line in f:\n",
    "            cols = line.split(\",\")\n",
    "            if len(cols) < 2: continue\n",
    "            labels.append(int(cols.pop(0)))\n",
    "            vals = list(map(lambda n: int(n) / 256, cols))\n",
    "            images.append(vals)\n",
    "    return {\"labels\":labels, \"images\":images}\n",
    "\n",
    "data = load_csv(\"./mnist_letter/train.csv\")\n",
    "test = load_csv(\"./mnist_letter/test.csv\")\n",
    "\n",
    "X_train = np.array(data[\"images\"])\n",
    "X_test = np.array(test[\"images\"])\n",
    "y_train = np.array(data[\"labels\"])\n",
    "y_test = np.array(test[\"labels\"])\n",
    "\n",
    "# convert to float32 data type and normalize\n",
    "X_train = X_train.reshape(60001, 784).astype('float32')\n",
    "X_test = X_test.reshape(20800,784).astype('float')\n",
    "\n",
    "# convert to 0-25 categorical data\n",
    "y_train = np_utils.to_categorical(y_train, 27)\n",
    "y_test = np_utils.to_categorical(y_test, 27)\n",
    "\n",
    "\n"
   ]
  },
  {
   "cell_type": "code",
   "execution_count": 2,
   "metadata": {},
   "outputs": [
    {
     "name": "stdout",
     "output_type": "stream",
     "text": [
      "Epoch 1/10\n",
      "60001/60001 [==============================] - 23s - loss: 0.6738 - acc: 0.7902    \n",
      "Epoch 2/10\n",
      "60001/60001 [==============================] - 24s - loss: 0.3527 - acc: 0.8850    \n",
      "Epoch 3/10\n",
      "60001/60001 [==============================] - 23s - loss: 0.2773 - acc: 0.9053    \n",
      "Epoch 4/10\n",
      "60001/60001 [==============================] - 24s - loss: 0.2251 - acc: 0.9207    \n",
      "Epoch 5/10\n",
      "60001/60001 [==============================] - 24s - loss: 0.1939 - acc: 0.9297    \n",
      "Epoch 6/10\n",
      "60001/60001 [==============================] - 25s - loss: 0.1694 - acc: 0.9373    \n",
      "Epoch 7/10\n",
      "60001/60001 [==============================] - 26s - loss: 0.1487 - acc: 0.9436    \n",
      "Epoch 8/10\n",
      "60001/60001 [==============================] - 25s - loss: 0.1384 - acc: 0.9467    \n",
      "Epoch 9/10\n",
      "60001/60001 [==============================] - 25s - loss: 0.1229 - acc: 0.9520    \n",
      "Epoch 10/10\n",
      "60001/60001 [==============================] - 26s - loss: 0.1161 - acc: 0.9539    \n",
      "20544/20800 [============================>.] - ETA: 0sloss= 0.43738270198\n",
      "accuracy= 0.898028846154\n"
     ]
    }
   ],
   "source": [
    "\n",
    "# define the model structure\n",
    "model = Sequential()\n",
    "model.add(Dense(392, input_shape=(784,)))\n",
    "model.add(Activation('relu'))\n",
    "#model.add(Dropout(0.2))\n",
    "model.add(Dense(392))\n",
    "model.add(Activation('relu'))\n",
    "#model.add(Dropout(0.2))\n",
    "model.add(Dense(27))\n",
    "model.add(Activation('softmax'))\n",
    "\n",
    "# compile\n",
    "model.compile(\n",
    "              loss = 'categorical_crossentropy',\n",
    "              optimizer = Adam(),\n",
    "              metrics = ['accuracy'])\n",
    "\n",
    "# train data\n",
    "hist = model.fit(X_train, y_train)\n",
    "\n",
    "# evaluation with test data\n",
    "score = model.evaluate(X_test, y_test, verbose=1)\n",
    "print('loss=', score[0])\n",
    "print('accuracy=', score[1])"
   ]
  }
 ],
 "metadata": {
  "kernelspec": {
   "display_name": "Python 3",
   "language": "python",
   "name": "python3"
  },
  "language_info": {
   "codemirror_mode": {
    "name": "ipython",
    "version": 3
   },
   "file_extension": ".py",
   "mimetype": "text/x-python",
   "name": "python",
   "nbconvert_exporter": "python",
   "pygments_lexer": "ipython3",
   "version": "3.6.3"
  }
 },
 "nbformat": 4,
 "nbformat_minor": 2
}
